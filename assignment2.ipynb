{
 "cells": [
  {
   "cell_type": "markdown",
   "source": [
    "# Assignment 2"
   ],
   "metadata": {
    "collapsed": false
   },
   "id": "b10fdb0340955754"
  },
  {
   "cell_type": "markdown",
   "source": [
    "In this assignment we analyze the problematic described in a paper called:\n",
    "    *Panning for Gold: Model-X Knockoffs for High-dimensional Controlled Variable Selection*.\n",
    "    \n",
    "The exercises in this assignment are given as follows:\n",
    "\n",
    "1. Reproduce Figure 1 from the paper.\n",
    "2. What is the problem that Figure 1 tries to illustrate?\n",
    "3. Propose a solution to address the problem. You can implement conditional randomization test, another existing method or come up with your own idea.\n",
    "4. Go back to Figure 1 and show that your solution fixes the problem.\n",
    "5. Find a real dataset and apply your method.\n"
   ],
   "metadata": {
    "collapsed": false
   },
   "id": "79d5b774dce2ceff"
  },
  {
   "cell_type": "markdown",
   "source": [
    "## 1. Figure recreation\n",
    "To reproduce the figure we have to identify the test setting they were using.\n",
    "We look at a linear regression model, which is defined by the equation:\n",
    "$Y = \\beta_0 + \\sum_{i=1}^p \\beta_i X_i$, here: $\\beta_0 = 0$\n",
    "The $\\beta_i$ are then the coefficients of the model and the $X_i$ are the input variables. They are modeled as an autoregressive model with the AR coefficient $0.5$. That means, $X_1 , \\dots, X_p$ are defined by $X_t = 0.5 \\cdot X_{t-1} + \\epsilon_t$  "
   ],
   "metadata": {
    "collapsed": false
   },
   "id": "ac7199a57cde2937"
  },
  {
   "cell_type": "code",
   "execution_count": 1,
   "outputs": [],
   "source": [
    "import numpy as np\n",
    "import pandas as pd\n",
    "import statsmodels.api as statm\n",
    "import matplotlib.pyplot as plt\n",
    "\n",
    "from sklearn.linear_model import LinearRegression, LogisticRegression\n",
    "from typing import Callable\n",
    "\n",
    "from ipywidgets import IntProgress\n",
    "from IPython.display import display"
   ],
   "metadata": {
    "collapsed": false,
    "ExecuteTime": {
     "end_time": "2024-03-22T16:36:00.489971700Z",
     "start_time": "2024-03-22T16:35:58.608539900Z"
    }
   },
   "id": "e45dd6631893699f"
  },
  {
   "cell_type": "code",
   "execution_count": 8,
   "outputs": [],
   "source": [
    "def generate_AR1s(n:int =500, p:int =200, coeff:float = 0.5):\n",
    "    \"\"\"\n",
    "    The function generates nxp autoregressive values.\n",
    "    :param n: number of time series to generate (samples)\n",
    "    :param p: number of values per time series (predictors)\n",
    "    :param coeff: coefficient of the autoregressive model\n",
    "    :return: the genrated nxp matrix containing samples of autoregressive models\n",
    "    \"\"\"\n",
    "    Xs = np.random.normal(0,1,size=(n,p)) # Here, Xs contains only the epsilons of the equation. The first entry is X_0.\n",
    "    # Now we simulate the autoregressive model by adding for each column the previous value to the current value, which is only the epsilon.\n",
    "    for k in range(1,p):\n",
    "        Xs[:,k] = Xs[:,k] + coeff*Xs[:,k-1]\n",
    "    return Xs"
   ],
   "metadata": {
    "collapsed": false,
    "ExecuteTime": {
     "end_time": "2024-03-22T16:36:30.747994300Z",
     "start_time": "2024-03-22T16:36:30.743484200Z"
    }
   },
   "id": "9ecb90cae6771624"
  },
  {
   "cell_type": "code",
   "execution_count": 9,
   "outputs": [],
   "source": [
    "def generate_response(n:int = 500, prob:float|np.ndarray =0.5):\n",
    "    \"\"\"\n",
    "    The function generates p responses using a bernoulli distribution.\n",
    "    :param n: number of values to generate\n",
    "    :param prob: probability or probabilities\n",
    "    :return: the responses\n",
    "    \"\"\"\n",
    "    y = np.zeros((n,))\n",
    "    if type(prob) is float:\n",
    "        y = np.random.binomial(1, prob, n)\n",
    "    else:\n",
    "        for i in range(n):\n",
    "            y[i] = np.random.binomial(1, prob[i], 1)[0]\n",
    "    return y"
   ],
   "metadata": {
    "collapsed": false,
    "ExecuteTime": {
     "end_time": "2024-03-22T16:36:32.293676700Z",
     "start_time": "2024-03-22T16:36:32.288165400Z"
    }
   },
   "id": "7ff83dbe068eb2e2"
  },
  {
   "cell_type": "code",
   "execution_count": 10,
   "outputs": [],
   "source": [
    "def get_single_logreg_p(n:int =500, p:int =200, coeff:float = 0.5, prob:float =0.5, mode:str = 'global'):\n",
    "    \"\"\"\n",
    "    The function simulates one matrix with 500 time series with 200 points each. It fits a logistic regression model to it and calculates the p-values using bootstrapping.\n",
    "    :param n: number of time series to generate (samples)\n",
    "    :param p: number of values per time series (predictors)\n",
    "    :param coeff: coefficient of the autoregressive model\n",
    "    :param prob: probability or coefficient for logit probabilities\n",
    "    :param mode: mode of test setting, if \n",
    "                'global' the global null distribution of the p-values is calculated using the given probability\n",
    "                'nonzero' only 20 coefficients of the model are set to nonzero and the prob is the coefficient for the response calculated using the logit\n",
    "    :return: the p-values\n",
    "    \"\"\"\n",
    "    X = generate_AR1s(n=n, p=p, coeff=coeff)  # (500,200)\n",
    "    if mode == 'global':\n",
    "        Y = generate_response(n=n, prob=prob)  # (500,)\n",
    "    elif mode == 'nonzero':\n",
    "        non_zero_idcs = np.random.randint(1,p,20)  # Creates 20 indices for which the coefficients will be nonzero\n",
    "        X_rel = X[:, non_zero_idcs] \n",
    "        probs = prob * np.sum(X_rel, axis=1)\n",
    "        Y = generate_response(n=n, prob = 1 / (1 + np.exp(-probs)))\n",
    "    logreg = statm.Logit(Y,X).fit(disp=0)\n",
    "    return logreg.pvalues"
   ],
   "metadata": {
    "collapsed": false,
    "ExecuteTime": {
     "end_time": "2024-03-22T16:36:33.453311700Z",
     "start_time": "2024-03-22T16:36:33.445304Z"
    }
   },
   "id": "8113b6b10e3ad3fb"
  },
  {
   "cell_type": "code",
   "execution_count": 11,
   "outputs": [],
   "source": [
    "def simulate_k_logreg(n:int =500, p:int =200, coeff:float = 0.5, prob:float =0.5, mode:str = 'global', k:int =10, beta_idx:int =0):\n",
    "    \"\"\"\n",
    "    This function calls get_single_linreg_p() k times and returns the p values for the beta with index beta_idx.\n",
    "    :param n: number of time series to generate (samples)\n",
    "    :param p: number of values per time series (predictors)\n",
    "    :param coeff: coefficient of the autoregressive model\n",
    "    :param prob: probability or coefficient for logit probabilities\n",
    "    :param k: number of replicates\n",
    "    :param beta_idx: index of the coefficient for which the p-values are returned\n",
    "    :param mode: mode of test setting, if \n",
    "                'global' the global null distribution of the p-values is calculated using the given probability\n",
    "                'nonzero' only 20 coefficients of the model are set to nonzero and the prob is the coefficient for the response calculated using the logit\n",
    "    :return: An array containing the p-values\n",
    "    \"\"\"\n",
    "    p_vals = []\n",
    "    f = IntProgress(min=0, max=k) # instantiate the bar\n",
    "    display(f)\n",
    "    for i in range(k):\n",
    "        ps = get_single_logreg_p(n=n, p=p, coeff=coeff, prob=prob, mode=mode)\n",
    "        p_vals.append(ps[beta_idx])\n",
    "        f.value += 1\n",
    "    return p_vals"
   ],
   "metadata": {
    "collapsed": false,
    "ExecuteTime": {
     "end_time": "2024-03-22T16:36:34.934995Z",
     "start_time": "2024-03-22T16:36:34.929484800Z"
    }
   },
   "id": "87ae486169b03675"
  },
  {
   "cell_type": "code",
   "execution_count": 12,
   "outputs": [],
   "source": [
    "def plot_histogram(p_vals:np.ndarray, title:str, x_label:str =\"p-values\", y_label:str = \"count\", bins:int =20):\n",
    "    \"\"\"\n",
    "    This function creates a histogram for the given p-values with the defined number of bins.\n",
    "    :param p_vals: np.array containing the p-values\n",
    "    :param title: Title of the figure\n",
    "    :param x_label: Label of the x-axis\n",
    "    :param y_label: Label of the y-axis\n",
    "    :param bins: number of bins to print\n",
    "    \"\"\"\n",
    "    plt.figure()\n",
    "    plt.hist(p_vals, bins = bins, edgecolor='black')\n",
    "    plt.title(title)\n",
    "    plt.xlabel(x_label)\n",
    "    plt.ylabel(y_label)\n",
    "    plt.show()"
   ],
   "metadata": {
    "collapsed": false,
    "ExecuteTime": {
     "end_time": "2024-03-22T16:36:36.301964500Z",
     "start_time": "2024-03-22T16:36:36.279437900Z"
    }
   },
   "id": "de2eaf0f23de706b"
  },
  {
   "cell_type": "markdown",
   "source": [
    "### First part"
   ],
   "metadata": {
    "collapsed": false
   },
   "id": "4aab954a2907c059"
  },
  {
   "cell_type": "code",
   "execution_count": 7,
   "outputs": [
    {
     "data": {
      "text/plain": "IntProgress(value=0, max=10000)",
      "application/vnd.jupyter.widget-view+json": {
       "version_major": 2,
       "version_minor": 0,
       "model_id": "1ec1dd3758a144f0b7c5b151d85d70f0"
      }
     },
     "metadata": {},
     "output_type": "display_data"
    },
    {
     "data": {
      "text/plain": "<Figure size 640x480 with 1 Axes>",
      "image/png": "[encoded data removed]"
     },
     "metadata": {},
     "output_type": "display_data"
    }
   ],
   "source": [
    "p_vals = simulate_k_logreg(k=10000)\n",
    "plot_histogram(p_vals, title=\"Global null, AR(1) design\")"
   ],
   "metadata": {
    "collapsed": false,
    "ExecuteTime": {
     "end_time": "2024-03-22T12:24:19.276864100Z",
     "start_time": "2024-03-22T12:10:08.730818600Z"
    }
   },
   "id": "6e02379d3f2de39e"
  },
  {
   "cell_type": "markdown",
   "source": [
    "### Second part"
   ],
   "metadata": {
    "collapsed": false
   },
   "id": "3b1dd9515e41e324"
  },
  {
   "cell_type": "code",
   "execution_count": 20,
   "outputs": [
    {
     "data": {
      "text/plain": "IntProgress(value=0, max=10000)",
      "application/vnd.jupyter.widget-view+json": {
       "version_major": 2,
       "version_minor": 0,
       "model_id": "6e85dd13f9cc437dbd2a2781b9ae495a"
      }
     },
     "metadata": {},
     "output_type": "display_data"
    },
    {
     "data": {
      "text/plain": "<Figure size 640x480 with 1 Axes>",
      "image/png": "[encoded data removed]"
     },
     "metadata": {},
     "output_type": "display_data"
    }
   ],
   "source": [
    "p_vals = simulate_k_logreg(mode='nonzero', prob=0.08, k=10000)\n",
    "plot_histogram(p_vals, title=\"20 Nonzero Coefficients, AR(1) Design\")"
   ],
   "metadata": {
    "collapsed": false,
    "ExecuteTime": {
     "end_time": "2024-03-22T13:56:11.698019500Z",
     "start_time": "2024-03-22T13:42:56.988233Z"
    }
   },
   "id": "b00c8f0e150caa6d"
  },
  {
   "cell_type": "markdown",
   "source": [
    "## 2. Illustrated Problem\n",
    "The problem stated in the paper is about variable selection in the context of regression model. In high dimensionality, the response of the model is probably depending on a subset of the features. The goal is to remove the predictors which have no effect to the outcome. The determination of these features is challenging, especially when the number of predictors $p$ and the number of measurements $n$ are both large such that $p/n\\geq 0.1$.\n",
    "The figure visualizes this problem by showing a histogram of the p-values of $\\beta_1$. We can see that in high-dimensional settings non-uniformity occurs in the null distribution of p-values. This non-uniformity can lead to challenges in accurately assessing the significance of variables and controlling the desired variable selection."
   ],
   "metadata": {
    "collapsed": false
   },
   "id": "deed279c7e3a283e"
  },
  {
   "cell_type": "markdown",
   "source": [
    "## 3. Proposed Solution\n",
    "A solution proposed in the paper is the conditional randomization test as an alternative approach for a controlled variable selection."
   ],
   "metadata": {
    "collapsed": false
   },
   "id": "113387b473b20d9a"
  },
  {
   "cell_type": "code",
   "execution_count": 2,
   "outputs": [],
   "source": [
    "def sample_cond_dist(X, j):\n",
    "    \"\"\"\n",
    "    This function returns the data matrix X with a new jth column that is sampled from the conditional distribution of that row from the data without that row. For that we use the bootstrap method and resample the column..\n",
    "    :param X: data \n",
    "    :param j: index of the resampled row\n",
    "    :return: copy of X with the jth row replaced\n",
    "    \"\"\"\n",
    "    X_repl = X.copy()\n",
    "    new_X_j = np.random.choice(X[:, j], size=X.shape[0], replace=True)\n",
    "    X_repl[:, j] = new_X_j\n",
    "    return X_repl"
   ],
   "metadata": {
    "collapsed": false,
    "ExecuteTime": {
     "end_time": "2024-03-22T16:36:09.160445100Z",
     "start_time": "2024-03-22T16:36:09.153934100Z"
    }
   },
   "id": "c0753b0e6ede42a4"
  },
  {
   "cell_type": "code",
   "execution_count": 3,
   "outputs": [],
   "source": [
    "def feature_importance_statistic(X, y, j):\n",
    "    \"\"\"\n",
    "    Return the importance of the jth feature in X for the response y. We here use the Linear Regression Coefficient as indicator of the features importance.\n",
    "    :param X: data\n",
    "    :param y: response\n",
    "    :param j: feature index\n",
    "    :return: feature importance\n",
    "    \"\"\"\n",
    "    model = LogisticRegression().fit(X, y)\n",
    "    coef = model.coef_[0]\n",
    "    return coef[j]"
   ],
   "metadata": {
    "collapsed": false,
    "ExecuteTime": {
     "end_time": "2024-03-22T16:36:10.559237800Z",
     "start_time": "2024-03-22T16:36:10.552725400Z"
    }
   },
   "id": "924678dac197d58a"
  },
  {
   "cell_type": "code",
   "execution_count": 4,
   "outputs": [],
   "source": [
    "def conditional_rand_test(X:np.ndarray, y:np.ndarray, T:Callable, K:int, j:int):\n",
    "    \"\"\"\n",
    "    This function performs a conditional randomization test on given input X and responses y, using the feature importance statistic T.\n",
    "    :param X: n samples \n",
    "    :param y: n responses\n",
    "    :param T: importance statistic\n",
    "    :param K: number of permutations\n",
    "    :param j: index of feature to analyze\n",
    "    :return: a one-sided p-value for the jth predictor\n",
    "    \"\"\"\n",
    "    importance_og = np.ones((K,)) * T(X, y, j)\n",
    "    importances_repl = np.ones((K,))\n",
    "    for k in range(K):\n",
    "        X_repl = sample_cond_dist(X,j)\n",
    "        importances_repl[k] = T(X_repl, y, j)\n",
    "    is_greater = importances_repl >= importance_og\n",
    "    p_val = (1 / (K+1)) * (1+np.sum(is_greater))\n",
    "    return p_val\n",
    "        "
   ],
   "metadata": {
    "collapsed": false,
    "ExecuteTime": {
     "end_time": "2024-03-22T16:36:11.832078600Z",
     "start_time": "2024-03-22T16:36:11.824422700Z"
    }
   },
   "id": "d7e1df23e9d335dd"
  },
  {
   "cell_type": "code",
   "execution_count": 5,
   "outputs": [],
   "source": [
    "def get_single_condtest_p(n:int =500, p:int =200, coeff:float = 0.5, prob:float =0.5, mode:str = 'global', beta_idx:int = 0):\n",
    "    \"\"\"\n",
    "    The function simulates one matrix with 500 time series with 200 points each. It fits a logistic regression model to it and calculates the p-values using bootstrapping.\n",
    "    :param n: number of time series to generate (samples)\n",
    "    :param p: number of values per time series (predictors)\n",
    "    :param coeff: coefficient of the autoregressive model\n",
    "    :param prob: probability or coefficient for logit probabilities\n",
    "    :param beta_idx: index of the coefficient for which the p-values are returned\n",
    "    :param mode: mode of test setting, if \n",
    "                'global' the global null distribution of the p-values is calculated using the given probability\n",
    "                'nonzero' only 20 coefficients of the model are set to nonzero and the prob is the coefficient for the response calculated using the logit\n",
    "    :return: the p-values\n",
    "    \"\"\"\n",
    "    X = generate_AR1s(n=n, p=p, coeff=coeff)  # (500,200)\n",
    "    if mode == 'global':\n",
    "        Y = generate_response(n=n, prob=prob)  # (500,)\n",
    "    elif mode == 'nonzero':\n",
    "        non_zero_idcs = np.random.randint(1,p,20)  # Creates 20 indices for which the coefficients will be nonzero\n",
    "        X_rel = X[:, non_zero_idcs] \n",
    "        probs = prob * np.sum(X_rel, axis=1)\n",
    "        Y = generate_response(n=n, prob = 1 / (1 + np.exp(-probs)))\n",
    "    p_val = conditional_rand_test(X, Y, feature_importance_statistic, 100, beta_idx)\n",
    "    return p_val"
   ],
   "metadata": {
    "collapsed": false,
    "ExecuteTime": {
     "end_time": "2024-03-22T16:36:13.170111300Z",
     "start_time": "2024-03-22T16:36:13.164600900Z"
    }
   },
   "id": "de60cf2f25323adf"
  },
  {
   "cell_type": "code",
   "execution_count": 6,
   "outputs": [],
   "source": [
    "def simulate_k_condtest(n:int =500, p:int =200, coeff:float = 0.5, prob:float =0.5, mode:str = 'global', k:int =10, beta_idx:int =0):\n",
    "    \"\"\"\n",
    "    This function calls get_single_linreg_p() k times and returns the p values for the beta with index beta_idx.\n",
    "    :param n: number of time series to generate (samples)\n",
    "    :param p: number of values per time series (predictors)\n",
    "    :param coeff: coefficient of the autoregressive model\n",
    "    :param prob: probability or coefficient for logit probabilities\n",
    "    :param mode: mode of test setting, if \n",
    "                'global' the global null distribution of the p-values is calculated using the given probability\n",
    "                'nonzero' only 20 coefficients of the model are set to nonzero and the prob is the coefficient for the response calculated using the logit\n",
    "    :param k: number of replicates\n",
    "    :param beta_idx: index of the coefficient for which the p-values are returned\n",
    "    :return: An array containing the p-values\n",
    "    \"\"\"\n",
    "    p_vals = []\n",
    "    f = IntProgress(min=0, max=k) # instantiate the bar\n",
    "    display(f)\n",
    "    for i in range(k):\n",
    "        p_val = get_single_condtest_p(n=n, p=p, coeff=coeff, prob=prob, mode=mode, beta_idx=beta_idx)\n",
    "        p_vals.append(p_val)\n",
    "        f.value += 1\n",
    "    return p_vals"
   ],
   "metadata": {
    "collapsed": false,
    "ExecuteTime": {
     "end_time": "2024-03-22T16:36:14.659041100Z",
     "start_time": "2024-03-22T16:36:14.653035Z"
    }
   },
   "id": "e3e9a7409beaa3ad"
  },
  {
   "cell_type": "markdown",
   "source": [
    "## 4. Plotted solution "
   ],
   "metadata": {
    "collapsed": false
   },
   "id": "c61cb880e13ce1fd"
  },
  {
   "cell_type": "code",
   "outputs": [
    {
     "data": {
      "text/plain": "IntProgress(value=0, max=1000)",
      "application/vnd.jupyter.widget-view+json": {
       "version_major": 2,
       "version_minor": 0,
       "model_id": "4f1024fb506e4316b5786ea9fc6bbdda"
      }
     },
     "metadata": {},
     "output_type": "display_data"
    },
    {
     "data": {
      "text/plain": "<Figure size 640x480 with 1 Axes>",
      "image/png": "[encoded data removed]"
     },
     "metadata": {},
     "output_type": "display_data"
    }
   ],
   "source": [
    "p_vals = simulate_k_condtest(k=1000)\n",
    "plot_histogram(p_vals, title=\"Global null with conditional test\")"
   ],
   "metadata": {
    "collapsed": false
   },
   "id": "858aa619dba0bb54",
   "execution_count": 12
  },
  {
   "cell_type": "code",
   "outputs": [
    {
     "data": {
      "text/plain": "IntProgress(value=0, max=10000)",
      "application/vnd.jupyter.widget-view+json": {
       "version_major": 2,
       "version_minor": 0,
       "model_id": "15c5f32f53f04d08b24be6bf40c549a4"
      }
     },
     "metadata": {},
     "output_type": "display_data"
    },
    {
     "data": {
      "text/plain": "<Figure size 640x480 with 1 Axes>",
      "image/png": "[encoded data removed]"
     },
     "metadata": {},
     "output_type": "display_data"
    }
   ],
   "source": [
    "p_vals = simulate_k_condtest(k=10000)\n",
    "plot_histogram(p_vals, title=\"Global null with conditional test\")\n",
    "# sadly no time for 10k"
   ],
   "metadata": {
    "collapsed": false,
    "ExecuteTime": {
     "end_time": "2024-03-22T18:37:55.708104900Z",
     "start_time": "2024-03-22T16:36:41.778144900Z"
    }
   },
   "id": "2cbb885960e6326f",
   "execution_count": 13
  },
  {
   "cell_type": "code",
   "execution_count": null,
   "outputs": [
    {
     "data": {
      "text/plain": "IntProgress(value=0, max=10000)",
      "application/vnd.jupyter.widget-view+json": {
       "version_major": 2,
       "version_minor": 0,
       "model_id": "60b2a73b3eef49a3aa4f665d5f558e18"
      }
     },
     "metadata": {},
     "output_type": "display_data"
    }
   ],
   "source": [
    "p_vals = simulate_k_condtest(mode='nonzero', prob=0.08, k=10000)\n",
    "plot_histogram(p_vals, title=\"20 Nonzero Coefficients, conditional test\")"
   ],
   "metadata": {
    "collapsed": false,
    "is_executing": true,
    "ExecuteTime": {
     "start_time": "2024-03-22T18:37:55.709106Z"
    }
   },
   "id": "51e08c8387435a66"
  },
  {
   "cell_type": "code",
   "outputs": [
    {
     "data": {
      "text/plain": "IntProgress(value=0, max=1000)",
      "application/vnd.jupyter.widget-view+json": {
       "version_major": 2,
       "version_minor": 0,
       "model_id": "fe502cc5a3964215999a012a040255a9"
      }
     },
     "metadata": {},
     "output_type": "display_data"
    },
    {
     "data": {
      "text/plain": "<Figure size 640x480 with 1 Axes>",
      "image/png": "[encoded data removed]"
     },
     "metadata": {},
     "output_type": "display_data"
    }
   ],
   "source": [
    "p_vals = simulate_k_condtest(mode='nonzero', prob=0.08, k=1000)\n",
    "plot_histogram(p_vals, title=\"20 Nonzero Coefficients, conditional test\")"
   ],
   "metadata": {
    "collapsed": false
   },
   "id": "3578183e5c07ff80",
   "execution_count": 20
  },
  {
   "cell_type": "markdown",
   "source": [
    "## 5. Real Dataset \n",
    "We are going to use the boston housing dataset to apply the conditional randomization test."
   ],
   "metadata": {
    "collapsed": false
   },
   "id": "bb016695c5e3e7b2"
  },
  {
   "cell_type": "code",
   "outputs": [],
   "source": [
    "genes_names = pd.read_csv(\"data/genes.csv\")\n",
    "labels = np.load(\"data/y.npy\")\n",
    "DataMatrix = np.load(\"data/X.npy\")"
   ],
   "metadata": {
    "collapsed": false
   },
   "id": "6048203b1e3374b3"
  },
  {
   "cell_type": "code",
   "outputs": [],
   "source": [
    "p_val1 = conditional_rand_test(DataMatrix, labels, feature_importance_statistic, 10, 1) # calculate p-value with the conditional randomization test for the first \n",
    "p_val2 = conditional_rand_test(DataMatrix, labels, feature_importance_statistic, 10, 2) # calculate p-value with the conditional randomization test for the first \n",
    "p_val3 = conditional_rand_test(DataMatrix, labels, feature_importance_statistic, 10, 3) # calculate p-value with the conditional randomization test for the first "
   ],
   "metadata": {
    "collapsed": false
   },
   "id": "362970a650e5df35"
  },
  {
   "cell_type": "code",
   "outputs": [
    {
     "name": "stdout",
     "output_type": "stream",
     "text": [
      "p_val1=0.09090909090909091\n",
      "p_val2=0.4545454545454546\n",
      "p_val3=0.5454545454545454\n"
     ]
    }
   ],
   "source": [
    "print(f\"{p_val1=}\")\n",
    "print(f\"{p_val2=}\")\n",
    "print(f\"{p_val3=}\")"
   ],
   "metadata": {
    "collapsed": false
   },
   "id": "7204f7a6e9378771",
   "execution_count": 19
  }
 ],
 "metadata": {
  "kernelspec": {
   "display_name": "Python 3",
   "language": "python",
   "name": "python3"
  },
  "language_info": {
   "codemirror_mode": {
    "name": "ipython",
    "version": 2
   },
   "file_extension": ".py",
   "mimetype": "text/x-python",
   "name": "python",
   "nbconvert_exporter": "python",
   "pygments_lexer": "ipython2",
   "version": "2.7.6"
  }
 },
 "nbformat": 4,
 "nbformat_minor": 5
}
